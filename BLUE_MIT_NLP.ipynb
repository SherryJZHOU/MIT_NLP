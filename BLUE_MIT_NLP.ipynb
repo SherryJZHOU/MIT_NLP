{
 "cells": [
  {
   "cell_type": "code",
   "execution_count": 2,
   "metadata": {},
   "outputs": [],
   "source": [
    "import pandas as pd\n",
    "import numpy as np\n",
    "import matplotlib.pyplot as plt"
   ]
  },
  {
   "cell_type": "code",
   "execution_count": null,
   "metadata": {},
   "outputs": [],
   "source": [
    "bioses_train = pd.read_csv('/Users/IsabelSmokelin/Desktop/Harvard/F23/6.8610/Project/bert_data/BIOSSES/train.tsv', sep='\\t')\n",
    "#BC5CDR_test = pd.read_csv('/Users/IsabelSmokelin/Desktop/Harvard/F23/6.8610/Project/bert_data/BC5CDR/disease/test.tsv')\n",
    "#BC5CDR_devel= pd.read_csv('/Users/IsabelSmokelin/Desktop/Harvard/F23/6.8610/Project/bert_data/BC5CDR/disease/devel.tsv')"
   ]
  },
  {
   "cell_type": "code",
   "execution_count": null,
   "metadata": {},
   "outputs": [],
   "source": [
    "bioses_train.head()"
   ]
  },
  {
   "cell_type": "code",
   "execution_count": null,
   "metadata": {},
   "outputs": [],
   "source": [
    "bc5_train = pd.read_csv('/Users/IsabelSmokelin/Desktop/Harvard/F23/6.8610/Project/bert_data/BC5CDR/disease/train.tsv', sep = '\\t')"
   ]
  },
  {
   "cell_type": "code",
   "execution_count": null,
   "metadata": {},
   "outputs": [],
   "source": [
    "bc5_train[0:10]"
   ]
  },
  {
   "cell_type": "markdown",
   "metadata": {},
   "source": [
    "Knoweledge Graph Stuff"
   ]
  },
  {
   "cell_type": "code",
   "execution_count": 3,
   "metadata": {},
   "outputs": [
    {
     "name": "stderr",
     "output_type": "stream",
     "text": [
      "/var/folders/qv/whncf_dn3x79pb78276v5dxw0000gn/T/ipykernel_69556/1601098485.py:1: DtypeWarning: Columns (3,8) have mixed types. Specify dtype option on import or set low_memory=False.\n",
      "  kg = pd.read_csv('/Users/IsabelSmokelin/Desktop/Harvard/F23/6.8610/Project/PrimeKG/kg.csv')\n"
     ]
    }
   ],
   "source": [
    "kg = pd.read_csv('/Users/IsabelSmokelin/Desktop/Harvard/F23/6.8610/Project/PrimeKG/kg.csv')"
   ]
  },
  {
   "cell_type": "code",
   "execution_count": 4,
   "metadata": {},
   "outputs": [
    {
     "data": {
      "text/html": [
       "<div>\n",
       "<style scoped>\n",
       "    .dataframe tbody tr th:only-of-type {\n",
       "        vertical-align: middle;\n",
       "    }\n",
       "\n",
       "    .dataframe tbody tr th {\n",
       "        vertical-align: top;\n",
       "    }\n",
       "\n",
       "    .dataframe thead th {\n",
       "        text-align: right;\n",
       "    }\n",
       "</style>\n",
       "<table border=\"1\" class=\"dataframe\">\n",
       "  <thead>\n",
       "    <tr style=\"text-align: right;\">\n",
       "      <th></th>\n",
       "      <th>relation</th>\n",
       "      <th>display_relation</th>\n",
       "      <th>x_index</th>\n",
       "      <th>x_id</th>\n",
       "      <th>x_type</th>\n",
       "      <th>x_name</th>\n",
       "      <th>x_source</th>\n",
       "      <th>y_index</th>\n",
       "      <th>y_id</th>\n",
       "      <th>y_type</th>\n",
       "      <th>y_name</th>\n",
       "      <th>y_source</th>\n",
       "    </tr>\n",
       "  </thead>\n",
       "  <tbody>\n",
       "    <tr>\n",
       "      <th>50000</th>\n",
       "      <td>protein_protein</td>\n",
       "      <td>ppi</td>\n",
       "      <td>10</td>\n",
       "      <td>4041</td>\n",
       "      <td>gene/protein</td>\n",
       "      <td>LRP5</td>\n",
       "      <td>NCBI</td>\n",
       "      <td>7140</td>\n",
       "      <td>22943</td>\n",
       "      <td>gene/protein</td>\n",
       "      <td>DKK1</td>\n",
       "      <td>NCBI</td>\n",
       "    </tr>\n",
       "    <tr>\n",
       "      <th>50001</th>\n",
       "      <td>protein_protein</td>\n",
       "      <td>ppi</td>\n",
       "      <td>1317</td>\n",
       "      <td>29978</td>\n",
       "      <td>gene/protein</td>\n",
       "      <td>UBQLN2</td>\n",
       "      <td>NCBI</td>\n",
       "      <td>11401</td>\n",
       "      <td>124220</td>\n",
       "      <td>gene/protein</td>\n",
       "      <td>ZG16B</td>\n",
       "      <td>NCBI</td>\n",
       "    </tr>\n",
       "    <tr>\n",
       "      <th>50002</th>\n",
       "      <td>protein_protein</td>\n",
       "      <td>ppi</td>\n",
       "      <td>7650</td>\n",
       "      <td>2268</td>\n",
       "      <td>gene/protein</td>\n",
       "      <td>FGR</td>\n",
       "      <td>NCBI</td>\n",
       "      <td>3683</td>\n",
       "      <td>9533</td>\n",
       "      <td>gene/protein</td>\n",
       "      <td>POLR1C</td>\n",
       "      <td>NCBI</td>\n",
       "    </tr>\n",
       "    <tr>\n",
       "      <th>50003</th>\n",
       "      <td>protein_protein</td>\n",
       "      <td>ppi</td>\n",
       "      <td>1098</td>\n",
       "      <td>5978</td>\n",
       "      <td>gene/protein</td>\n",
       "      <td>REST</td>\n",
       "      <td>NCBI</td>\n",
       "      <td>59745</td>\n",
       "      <td>253982</td>\n",
       "      <td>gene/protein</td>\n",
       "      <td>ASPHD1</td>\n",
       "      <td>NCBI</td>\n",
       "    </tr>\n",
       "    <tr>\n",
       "      <th>50004</th>\n",
       "      <td>protein_protein</td>\n",
       "      <td>ppi</td>\n",
       "      <td>9143</td>\n",
       "      <td>11168</td>\n",
       "      <td>gene/protein</td>\n",
       "      <td>PSIP1</td>\n",
       "      <td>NCBI</td>\n",
       "      <td>5577</td>\n",
       "      <td>117246</td>\n",
       "      <td>gene/protein</td>\n",
       "      <td>FTSJ3</td>\n",
       "      <td>NCBI</td>\n",
       "    </tr>\n",
       "    <tr>\n",
       "      <th>50005</th>\n",
       "      <td>protein_protein</td>\n",
       "      <td>ppi</td>\n",
       "      <td>6001</td>\n",
       "      <td>2888</td>\n",
       "      <td>gene/protein</td>\n",
       "      <td>GRB14</td>\n",
       "      <td>NCBI</td>\n",
       "      <td>1151</td>\n",
       "      <td>4790</td>\n",
       "      <td>gene/protein</td>\n",
       "      <td>NFKB1</td>\n",
       "      <td>NCBI</td>\n",
       "    </tr>\n",
       "    <tr>\n",
       "      <th>50006</th>\n",
       "      <td>protein_protein</td>\n",
       "      <td>ppi</td>\n",
       "      <td>377</td>\n",
       "      <td>4223</td>\n",
       "      <td>gene/protein</td>\n",
       "      <td>MEOX2</td>\n",
       "      <td>NCBI</td>\n",
       "      <td>17</td>\n",
       "      <td>85289</td>\n",
       "      <td>gene/protein</td>\n",
       "      <td>KRTAP4-5</td>\n",
       "      <td>NCBI</td>\n",
       "    </tr>\n",
       "    <tr>\n",
       "      <th>50007</th>\n",
       "      <td>protein_protein</td>\n",
       "      <td>ppi</td>\n",
       "      <td>515</td>\n",
       "      <td>602</td>\n",
       "      <td>gene/protein</td>\n",
       "      <td>BCL3</td>\n",
       "      <td>NCBI</td>\n",
       "      <td>11132</td>\n",
       "      <td>9299</td>\n",
       "      <td>gene/protein</td>\n",
       "      <td>SNORD30</td>\n",
       "      <td>NCBI</td>\n",
       "    </tr>\n",
       "    <tr>\n",
       "      <th>50008</th>\n",
       "      <td>protein_protein</td>\n",
       "      <td>ppi</td>\n",
       "      <td>5591</td>\n",
       "      <td>23410</td>\n",
       "      <td>gene/protein</td>\n",
       "      <td>SIRT3</td>\n",
       "      <td>NCBI</td>\n",
       "      <td>13708</td>\n",
       "      <td>149986</td>\n",
       "      <td>gene/protein</td>\n",
       "      <td>LSM14B</td>\n",
       "      <td>NCBI</td>\n",
       "    </tr>\n",
       "    <tr>\n",
       "      <th>50009</th>\n",
       "      <td>protein_protein</td>\n",
       "      <td>ppi</td>\n",
       "      <td>5192</td>\n",
       "      <td>30850</td>\n",
       "      <td>gene/protein</td>\n",
       "      <td>CDR2L</td>\n",
       "      <td>NCBI</td>\n",
       "      <td>2349</td>\n",
       "      <td>145483</td>\n",
       "      <td>gene/protein</td>\n",
       "      <td>FAM161B</td>\n",
       "      <td>NCBI</td>\n",
       "    </tr>\n",
       "  </tbody>\n",
       "</table>\n",
       "</div>"
      ],
      "text/plain": [
       "              relation display_relation  x_index   x_id        x_type  x_name  \\\n",
       "50000  protein_protein              ppi       10   4041  gene/protein    LRP5   \n",
       "50001  protein_protein              ppi     1317  29978  gene/protein  UBQLN2   \n",
       "50002  protein_protein              ppi     7650   2268  gene/protein     FGR   \n",
       "50003  protein_protein              ppi     1098   5978  gene/protein    REST   \n",
       "50004  protein_protein              ppi     9143  11168  gene/protein   PSIP1   \n",
       "50005  protein_protein              ppi     6001   2888  gene/protein   GRB14   \n",
       "50006  protein_protein              ppi      377   4223  gene/protein   MEOX2   \n",
       "50007  protein_protein              ppi      515    602  gene/protein    BCL3   \n",
       "50008  protein_protein              ppi     5591  23410  gene/protein   SIRT3   \n",
       "50009  protein_protein              ppi     5192  30850  gene/protein   CDR2L   \n",
       "\n",
       "      x_source  y_index    y_id        y_type    y_name y_source  \n",
       "50000     NCBI     7140   22943  gene/protein      DKK1     NCBI  \n",
       "50001     NCBI    11401  124220  gene/protein     ZG16B     NCBI  \n",
       "50002     NCBI     3683    9533  gene/protein    POLR1C     NCBI  \n",
       "50003     NCBI    59745  253982  gene/protein    ASPHD1     NCBI  \n",
       "50004     NCBI     5577  117246  gene/protein     FTSJ3     NCBI  \n",
       "50005     NCBI     1151    4790  gene/protein     NFKB1     NCBI  \n",
       "50006     NCBI       17   85289  gene/protein  KRTAP4-5     NCBI  \n",
       "50007     NCBI    11132    9299  gene/protein   SNORD30     NCBI  \n",
       "50008     NCBI    13708  149986  gene/protein    LSM14B     NCBI  \n",
       "50009     NCBI     2349  145483  gene/protein   FAM161B     NCBI  "
      ]
     },
     "execution_count": 4,
     "metadata": {},
     "output_type": "execute_result"
    }
   ],
   "source": [
    "kg[50000:50010]"
   ]
  },
  {
   "cell_type": "code",
   "execution_count": 5,
   "metadata": {},
   "outputs": [
    {
     "data": {
      "text/html": [
       "<div>\n",
       "<style scoped>\n",
       "    .dataframe tbody tr th:only-of-type {\n",
       "        vertical-align: middle;\n",
       "    }\n",
       "\n",
       "    .dataframe tbody tr th {\n",
       "        vertical-align: top;\n",
       "    }\n",
       "\n",
       "    .dataframe thead th {\n",
       "        text-align: right;\n",
       "    }\n",
       "</style>\n",
       "<table border=\"1\" class=\"dataframe\">\n",
       "  <thead>\n",
       "    <tr style=\"text-align: right;\">\n",
       "      <th></th>\n",
       "      <th>x_index</th>\n",
       "      <th>y_index</th>\n",
       "    </tr>\n",
       "  </thead>\n",
       "  <tbody>\n",
       "    <tr>\n",
       "      <th>count</th>\n",
       "      <td>8.100498e+06</td>\n",
       "      <td>8.100498e+06</td>\n",
       "    </tr>\n",
       "    <tr>\n",
       "      <th>mean</th>\n",
       "      <td>3.059139e+04</td>\n",
       "      <td>3.059139e+04</td>\n",
       "    </tr>\n",
       "    <tr>\n",
       "      <th>std</th>\n",
       "      <td>2.795725e+04</td>\n",
       "      <td>2.795725e+04</td>\n",
       "    </tr>\n",
       "    <tr>\n",
       "      <th>min</th>\n",
       "      <td>0.000000e+00</td>\n",
       "      <td>0.000000e+00</td>\n",
       "    </tr>\n",
       "    <tr>\n",
       "      <th>25%</th>\n",
       "      <td>1.208800e+04</td>\n",
       "      <td>1.208800e+04</td>\n",
       "    </tr>\n",
       "    <tr>\n",
       "      <th>50%</th>\n",
       "      <td>1.678800e+04</td>\n",
       "      <td>1.678800e+04</td>\n",
       "    </tr>\n",
       "    <tr>\n",
       "      <th>75%</th>\n",
       "      <td>5.968900e+04</td>\n",
       "      <td>5.968900e+04</td>\n",
       "    </tr>\n",
       "    <tr>\n",
       "      <th>max</th>\n",
       "      <td>1.293740e+05</td>\n",
       "      <td>1.293740e+05</td>\n",
       "    </tr>\n",
       "  </tbody>\n",
       "</table>\n",
       "</div>"
      ],
      "text/plain": [
       "            x_index       y_index\n",
       "count  8.100498e+06  8.100498e+06\n",
       "mean   3.059139e+04  3.059139e+04\n",
       "std    2.795725e+04  2.795725e+04\n",
       "min    0.000000e+00  0.000000e+00\n",
       "25%    1.208800e+04  1.208800e+04\n",
       "50%    1.678800e+04  1.678800e+04\n",
       "75%    5.968900e+04  5.968900e+04\n",
       "max    1.293740e+05  1.293740e+05"
      ]
     },
     "execution_count": 5,
     "metadata": {},
     "output_type": "execute_result"
    }
   ],
   "source": [
    "kg.describe()"
   ]
  },
  {
   "cell_type": "code",
   "execution_count": 6,
   "metadata": {},
   "outputs": [
    {
     "data": {
      "text/plain": [
       "(8100498, 12)"
      ]
     },
     "execution_count": 6,
     "metadata": {},
     "output_type": "execute_result"
    }
   ],
   "source": [
    "kg.shape"
   ]
  },
  {
   "cell_type": "code",
   "execution_count": 7,
   "metadata": {},
   "outputs": [
    {
     "data": {
      "text/plain": [
       "{'anatomy',\n",
       " 'biological_process',\n",
       " 'cellular_component',\n",
       " 'disease',\n",
       " 'drug',\n",
       " 'effect/phenotype',\n",
       " 'exposure',\n",
       " 'gene/protein',\n",
       " 'molecular_function',\n",
       " 'pathway'}"
      ]
     },
     "execution_count": 7,
     "metadata": {},
     "output_type": "execute_result"
    }
   ],
   "source": [
    "set(kg.x_type)"
   ]
  },
  {
   "cell_type": "code",
   "execution_count": 8,
   "metadata": {},
   "outputs": [
    {
     "data": {
      "text/plain": [
       "drug                  2805696\n",
       "gene/protein          2631229\n",
       "anatomy               1566154\n",
       "disease                341244\n",
       "effect/phenotype       257096\n",
       "biological_process     252202\n",
       "molecular_function      96723\n",
       "cellular_component      93102\n",
       "pathway                 47716\n",
       "exposure                 9336\n",
       "Name: x_type, dtype: int64"
      ]
     },
     "execution_count": 8,
     "metadata": {},
     "output_type": "execute_result"
    }
   ],
   "source": [
    "kg['x_type'].value_counts()"
   ]
  },
  {
   "cell_type": "code",
   "execution_count": 9,
   "metadata": {},
   "outputs": [
    {
     "data": {
      "text/html": [
       "<div>\n",
       "<style scoped>\n",
       "    .dataframe tbody tr th:only-of-type {\n",
       "        vertical-align: middle;\n",
       "    }\n",
       "\n",
       "    .dataframe tbody tr th {\n",
       "        vertical-align: top;\n",
       "    }\n",
       "\n",
       "    .dataframe thead th {\n",
       "        text-align: right;\n",
       "    }\n",
       "</style>\n",
       "<table border=\"1\" class=\"dataframe\">\n",
       "  <thead>\n",
       "    <tr style=\"text-align: right;\">\n",
       "      <th></th>\n",
       "      <th>concepts</th>\n",
       "    </tr>\n",
       "  </thead>\n",
       "  <tbody>\n",
       "    <tr>\n",
       "      <th>drug</th>\n",
       "      <td>2805696</td>\n",
       "    </tr>\n",
       "    <tr>\n",
       "      <th>gene/protein</th>\n",
       "      <td>2631229</td>\n",
       "    </tr>\n",
       "    <tr>\n",
       "      <th>anatomy</th>\n",
       "      <td>1566154</td>\n",
       "    </tr>\n",
       "    <tr>\n",
       "      <th>disease</th>\n",
       "      <td>341244</td>\n",
       "    </tr>\n",
       "    <tr>\n",
       "      <th>effect/phenotype</th>\n",
       "      <td>257096</td>\n",
       "    </tr>\n",
       "    <tr>\n",
       "      <th>biological_process</th>\n",
       "      <td>252202</td>\n",
       "    </tr>\n",
       "    <tr>\n",
       "      <th>molecular_function</th>\n",
       "      <td>96723</td>\n",
       "    </tr>\n",
       "    <tr>\n",
       "      <th>cellular_component</th>\n",
       "      <td>93102</td>\n",
       "    </tr>\n",
       "    <tr>\n",
       "      <th>pathway</th>\n",
       "      <td>47716</td>\n",
       "    </tr>\n",
       "    <tr>\n",
       "      <th>exposure</th>\n",
       "      <td>9336</td>\n",
       "    </tr>\n",
       "  </tbody>\n",
       "</table>\n",
       "</div>"
      ],
      "text/plain": [
       "                    concepts\n",
       "drug                 2805696\n",
       "gene/protein         2631229\n",
       "anatomy              1566154\n",
       "disease               341244\n",
       "effect/phenotype      257096\n",
       "biological_process    252202\n",
       "molecular_function     96723\n",
       "cellular_component     93102\n",
       "pathway                47716\n",
       "exposure                9336"
      ]
     },
     "execution_count": 9,
     "metadata": {},
     "output_type": "execute_result"
    }
   ],
   "source": [
    "breakdown = kg['y_type'].value_counts()\n",
    "\n",
    "\n",
    "concepts = pd.DataFrame(breakdown)\n",
    "concepts.shape\n",
    "\n",
    "\n",
    "concepts = concepts.rename(columns={'y_type': 'concepts'})\n",
    "concepts\n"
   ]
  },
  {
   "cell_type": "code",
   "execution_count": 11,
   "metadata": {},
   "outputs": [
    {
     "data": {
      "text/plain": [
       "Index(['drug', 'gene/protein', 'anatomy', 'disease', 'effect/phenotype',\n",
       "       'biological_process', 'molecular_function', 'cellular_component',\n",
       "       'pathway', 'exposure'],\n",
       "      dtype='object')"
      ]
     },
     "execution_count": 11,
     "metadata": {},
     "output_type": "execute_result"
    }
   ],
   "source": [
    "concepts.index"
   ]
  },
  {
   "cell_type": "code",
   "execution_count": 16,
   "metadata": {},
   "outputs": [
    {
     "data": {
      "image/png": "[encoded data removed]",
      "text/plain": [
       "<Figure size 432x288 with 1 Axes>"
      ]
     },
     "metadata": {
      "needs_background": "light"
     },
     "output_type": "display_data"
    }
   ],
   "source": [
    "plt.bar(concepts.index, concepts['concepts'])\n",
    "plt.title('Node Types in Prime KG')\n",
    "plt.xlabel('Node Types')\n",
    "plt.ylabel('Count')\n",
    "plt.xticks(rotation=-270)\n",
    "plt.show()\n"
   ]
  },
  {
   "cell_type": "code",
   "execution_count": null,
   "metadata": {},
   "outputs": [],
   "source": []
  }
 ],
 "metadata": {
  "kernelspec": {
   "display_name": "base",
   "language": "python",
   "name": "python3"
  },
  "language_info": {
   "codemirror_mode": {
    "name": "ipython",
    "version": 3
   },
   "file_extension": ".py",
   "mimetype": "text/x-python",
   "name": "python",
   "nbconvert_exporter": "python",
   "pygments_lexer": "ipython3",
   "version": "3.9.12"
  },
  "orig_nbformat": 4
 },
 "nbformat": 4,
 "nbformat_minor": 2
}
