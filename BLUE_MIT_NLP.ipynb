{
 "cells": [
  {
   "cell_type": "code",
   "execution_count": null,
   "metadata": {},
   "outputs": [],
   "source": [
    "import pandas as pd\n",
    "import numpy as np\n",
    "import matplotlib.pyplot as plt"
   ]
  },
  {
   "cell_type": "code",
   "execution_count": null,
   "metadata": {},
   "outputs": [],
   "source": [
    "bioses_train = pd.read_csv('/Users/IsabelSmokelin/Desktop/Harvard/F23/6.8610/Project/bert_data/BIOSSES/train.tsv', sep='\\t')\n",
    "#BC5CDR_test = pd.read_csv('/Users/IsabelSmokelin/Desktop/Harvard/F23/6.8610/Project/bert_data/BC5CDR/disease/test.tsv')\n",
    "#BC5CDR_devel= pd.read_csv('/Users/IsabelSmokelin/Desktop/Harvard/F23/6.8610/Project/bert_data/BC5CDR/disease/devel.tsv')"
   ]
  },
  {
   "cell_type": "code",
   "execution_count": null,
   "metadata": {},
   "outputs": [],
   "source": [
    "bioses_train.head()"
   ]
  },
  {
   "cell_type": "code",
   "execution_count": null,
   "metadata": {},
   "outputs": [],
   "source": [
    "bc5_train = pd.read_csv('/Users/IsabelSmokelin/Desktop/Harvard/F23/6.8610/Project/bert_data/BC5CDR/disease/train.tsv', sep = '\\t')"
   ]
  },
  {
   "cell_type": "code",
   "execution_count": null,
   "metadata": {},
   "outputs": [],
   "source": [
    "bc5_train[0:10]"
   ]
  },
  {
   "cell_type": "markdown",
   "metadata": {},
   "source": [
    "Knoweledge Graph Stuff"
   ]
  },
  {
   "cell_type": "code",
   "execution_count": null,
   "metadata": {},
   "outputs": [],
   "source": [
    "kg = pd.read_csv('/Users/IsabelSmokelin/Desktop/Harvard/F23/6.8610/Project/PrimeKG/kg.csv')"
   ]
  },
  {
   "cell_type": "code",
   "execution_count": null,
   "metadata": {},
   "outputs": [],
   "source": [
    "kg[50000:50010]"
   ]
  },
  {
   "cell_type": "code",
   "execution_count": null,
   "metadata": {},
   "outputs": [],
   "source": [
    "kg.describe()"
   ]
  },
  {
   "cell_type": "code",
   "execution_count": null,
   "metadata": {},
   "outputs": [],
   "source": [
    "kg.shape"
   ]
  },
  {
   "cell_type": "code",
   "execution_count": null,
   "metadata": {},
   "outputs": [],
   "source": [
    "set(kg.x_type)"
   ]
  },
  {
   "cell_type": "code",
   "execution_count": null,
   "metadata": {},
   "outputs": [],
   "source": [
    "kg['x_type'].value_counts()"
   ]
  },
  {
   "cell_type": "code",
   "execution_count": null,
   "metadata": {},
   "outputs": [],
   "source": [
    "breakdown = kg['y_type'].value_counts()\n",
    "\n",
    "\n",
    "concepts = pd.DataFrame(breakdown)\n",
    "concepts.shape\n",
    "\n",
    "\n",
    "concepts = concepts.rename(columns={'y_type': 'concepts'})\n",
    "concepts\n"
   ]
  },
  {
   "cell_type": "code",
   "execution_count": null,
   "metadata": {},
   "outputs": [],
   "source": [
    "concepts.index"
   ]
  },
  {
   "cell_type": "code",
   "execution_count": null,
   "metadata": {},
   "outputs": [],
   "source": [
    "plt.bar(concepts.index, concepts['concepts'])\n",
    "plt.title('Node Types in Prime KG')\n",
    "plt.xlabel('Node Types')\n",
    "plt.ylabel('Count')\n",
    "plt.xticks(rotation=-270)\n",
    "plt.show()\n"
   ]
  },
  {
   "cell_type": "code",
   "execution_count": null,
   "metadata": {},
   "outputs": [],
   "source": []
  }
 ],
 "metadata": {
  "kernelspec": {
   "display_name": "base",
   "language": "python",
   "name": "python3"
  },
  "language_info": {
   "codemirror_mode": {
    "name": "ipython",
    "version": 3
   },
   "file_extension": ".py",
   "mimetype": "text/x-python",
   "name": "python",
   "nbconvert_exporter": "python",
   "pygments_lexer": "ipython3",
   "version": "3.9.12"
  },
  "orig_nbformat": 4
 },
 "nbformat": 4,
 "nbformat_minor": 2
}
